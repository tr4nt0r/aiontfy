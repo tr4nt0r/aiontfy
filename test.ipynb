{
 "cells": [
  {
   "cell_type": "code",
   "execution_count": 1,
   "metadata": {},
   "outputs": [
    {
     "ename": "ModuleNotFoundError",
     "evalue": "No module named 'aiontfy'",
     "output_type": "error",
     "traceback": [
      "\u001b[0;31m---------------------------------------------------------------------------\u001b[0m",
      "\u001b[0;31mModuleNotFoundError\u001b[0m                       Traceback (most recent call last)",
      "Cell \u001b[0;32mIn[1], line 3\u001b[0m\n\u001b[1;32m      1\u001b[0m \u001b[38;5;28;01mfrom\u001b[39;00m\u001b[38;5;250m \u001b[39m\u001b[38;5;21;01maiohttp\u001b[39;00m\u001b[38;5;250m \u001b[39m\u001b[38;5;28;01mimport\u001b[39;00m ClientSession\n\u001b[0;32m----> 3\u001b[0m \u001b[38;5;28;01mfrom\u001b[39;00m\u001b[38;5;250m \u001b[39m\u001b[38;5;21;01maiontfy\u001b[39;00m\u001b[38;5;250m \u001b[39m\u001b[38;5;28;01mimport\u001b[39;00m Message, Ntfy\n\u001b[1;32m      5\u001b[0m \u001b[38;5;28;01masync\u001b[39;00m \u001b[38;5;28;01mwith\u001b[39;00m ClientSession() \u001b[38;5;28;01mas\u001b[39;00m session:\n\u001b[1;32m      6\u001b[0m     ntfy \u001b[38;5;241m=\u001b[39m Ntfy(\u001b[38;5;124m\"\u001b[39m\u001b[38;5;124mhttps://ntfy.sh\u001b[39m\u001b[38;5;124m\"\u001b[39m, session)\n",
      "\u001b[0;31mModuleNotFoundError\u001b[0m: No module named 'aiontfy'"
     ]
    }
   ],
   "source": [
    "from aiohttp import ClientSession\n",
    "\n",
    "from aiontfy import Message, Ntfy\n",
    "\n",
    "async with ClientSession() as session:\n",
    "    ntfy = Ntfy(\"https://ntfy.sh\", session)\n",
    "    message = Message(topic=\"mytopic\", message=\"test\", title=\"Title\")\n",
    "    print(await ntfy.publish(message))"
   ]
  }
 ],
 "metadata": {
  "kernelspec": {
   "display_name": "aiontfy",
   "language": "python",
   "name": "python3"
  },
  "language_info": {
   "codemirror_mode": {
    "name": "ipython",
    "version": 3
   },
   "file_extension": ".py",
   "mimetype": "text/x-python",
   "name": "python",
   "nbconvert_exporter": "python",
   "pygments_lexer": "ipython3",
   "version": "3.12.3"
  }
 },
 "nbformat": 4,
 "nbformat_minor": 2
}
