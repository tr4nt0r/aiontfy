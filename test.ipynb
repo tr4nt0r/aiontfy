{
 "cells": [
  {
   "cell_type": "code",
   "execution_count": 3,
   "metadata": {},
   "outputs": [
    {
     "name": "stdout",
     "output_type": "stream",
     "text": [
      "{'id': 'wUIvpVrClRN4', 'time': 1736379310, 'expires': 1736422510, 'event': 'message', 'topic': 'eratzartehzqwrtzq45634zhsfg', 'title': 'Title', 'message': 'test', 'priority': 5, 'tags': ['octopus'], 'click': 'https://habitica.com/', 'icon': 'https://habitica-assets.s3.amazonaws.com/mobileApp/images/shop_defensiveStance.png', 'content_type': 'text/markdown'}\n"
     ]
    }
   ],
   "source": [
    "from aiohttp import ClientSession\n",
    "\n",
    "from aiontfy import Message, Ntfy\n",
    "\n",
    "async with ClientSession() as session:\n",
    "    ntfy = Ntfy(\"https://ntfy.sh\", session)\n",
    "    message = Message(\n",
    "        topic=\"eratzartehzqwrtzq45634zhsfg\",\n",
    "        message=\"test\",\n",
    "        title=\"Title\",\n",
    "        click=\"https://habitica.com/\",\n",
    "        # delay=\"10s\",\n",
    "        icon=\"https://habitica-assets.s3.amazonaws.com/mobileApp/images/shop_defensiveStance.png\",\n",
    "        priority=5,\n",
    "        tags=[\"octopus\"],\n",
    "        markdown=True,\n",
    "    )\n",
    "    print(await ntfy.publish(message))"
   ]
  }
 ],
 "metadata": {
  "kernelspec": {
   "display_name": "aiontfy",
   "language": "python",
   "name": "python3"
  },
  "language_info": {
   "codemirror_mode": {
    "name": "ipython",
    "version": 3
   },
   "file_extension": ".py",
   "mimetype": "text/x-python",
   "name": "python",
   "nbconvert_exporter": "python",
   "pygments_lexer": "ipython3",
   "version": "3.12.3"
  }
 },
 "nbformat": 4,
 "nbformat_minor": 2
}
